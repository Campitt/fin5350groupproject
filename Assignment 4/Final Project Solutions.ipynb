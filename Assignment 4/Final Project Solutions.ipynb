{
 "cells": [
  {
   "cell_type": "code",
   "execution_count": 33,
   "metadata": {},
   "outputs": [],
   "source": [
    "from option import *\n",
    "from pricers import *\n",
    "from collections import namedtuple"
   ]
  },
  {
   "cell_type": "code",
   "execution_count": 34,
   "metadata": {},
   "outputs": [],
   "source": [
    "the_call = VanillaOption(100, 1, call_payoff)"
   ]
  },
  {
   "cell_type": "code",
   "execution_count": 35,
   "metadata": {},
   "outputs": [
    {
     "data": {
      "text/plain": [
       "PricerResult(price=9.133079295606493, stderr=0.1467505419016751)"
      ]
     },
     "execution_count": 35,
     "metadata": {},
     "output_type": "execute_result"
    }
   ],
   "source": [
    "naive_monte_carlo_pricer(the_call, 100, 0.06, .2, .03, 10000)"
   ]
  },
  {
   "cell_type": "code",
   "execution_count": 36,
   "metadata": {},
   "outputs": [],
   "source": [
    "# Step 1, set values\n",
    "strike = 100\n",
    "expiry = 1\n",
    "spot = 100\n",
    "vol = .2\n",
    "rate = .06\n",
    "div = .03\n",
    "n = 52\n",
    "steps = n\n",
    "nreps = 100\n",
    "M = nreps\n",
    "h = expiry/n\n",
    "nudt = (rate - div - 0.5 * vol * vol) * h\n",
    "sigsdt = vol * np.sqrt(h)\n",
    "erddt = np.exp((rate - div) * h)\n",
    "egamma = np.exp((2 * (rate - div) + (vol * vol)) * h) - (2 * erddt) + 1\n",
    "beta = -1\n",
    "beta2 = -.5"
   ]
  },
  {
   "cell_type": "code",
   "execution_count": 37,
   "metadata": {},
   "outputs": [],
   "source": [
    "the_call = VanillaOption(strike, expiry, call_payoff)"
   ]
  },
  {
   "cell_type": "code",
   "execution_count": 38,
   "metadata": {},
   "outputs": [
    {
     "data": {
      "text/plain": [
       "PricerResult(price=10.479006909326907, stderr=1.546991436576331)"
      ]
     },
     "execution_count": 38,
     "metadata": {},
     "output_type": "execute_result"
    }
   ],
   "source": [
    "# Naive MC\n",
    "naive_monte_carlo_pricer(the_call, spot, rate, vol, div, nreps)"
   ]
  },
  {
   "cell_type": "code",
   "execution_count": 39,
   "metadata": {},
   "outputs": [
    {
     "data": {
      "text/plain": [
       "PricerResult(price=9.234461920058443, stderr=1.050031725383081)"
      ]
     },
     "execution_count": 39,
     "metadata": {},
     "output_type": "execute_result"
    }
   ],
   "source": [
    "# Antithetic MC\n",
    "antithetic_monte_carlo_pricer(the_call, spot, rate, vol, div, nreps)"
   ]
  },
  {
   "cell_type": "code",
   "execution_count": 40,
   "metadata": {},
   "outputs": [],
   "source": [
    "# SE should reducein Antithetic MC"
   ]
  },
  {
   "cell_type": "code",
   "execution_count": 41,
   "metadata": {},
   "outputs": [],
   "source": [
    "# Black-Scholes Control Variate"
   ]
  },
  {
   "cell_type": "code",
   "execution_count": 42,
   "metadata": {},
   "outputs": [
    {
     "data": {
      "text/plain": [
       "PricerResult(price=9.198988136796729, stderr=0.09567101206393899)"
      ]
     },
     "execution_count": 42,
     "metadata": {},
     "output_type": "execute_result"
    }
   ],
   "source": [
    "control_variate_pricer(the_call, spot, rate, vol, div, n, nreps, beta)"
   ]
  },
  {
   "cell_type": "code",
   "execution_count": 43,
   "metadata": {},
   "outputs": [],
   "source": [
    "# Black Scholes Delta and Gamma + Control Variate"
   ]
  },
  {
   "cell_type": "code",
   "execution_count": 44,
   "metadata": {},
   "outputs": [
    {
     "data": {
      "text/plain": [
       "PricerResult(price=9.118580789504314, stderr=0.027343685921143546)"
      ]
     },
     "execution_count": 44,
     "metadata": {},
     "output_type": "execute_result"
    }
   ],
   "source": [
    "control_variate_pricer_gamma(the_call, spot, rate, vol, div, steps, nreps, beta, beta2)"
   ]
  },
  {
   "cell_type": "markdown",
   "metadata": {},
   "source": [
    "|Repititions|NaiveMC|NaiveMC SE|AntiMC|AntiMC SE|BSDelta|BSDelta SE|BSDeltaGamma|BSDeltaGamma SE |\n",
    "|-----------|-------|----------|------|---------|-------|----------|------------|----------------|\n",
    "|     100   | 10.0  |  1.525   |8.427 |  0.948  | 9.307 | .0912    |  9.151     |   .0222        |\n",
    "|-----------|-------|----------|------|---------|-------|----------|------------|----------------|\n",
    "|    10,000 | 9.146 |  0.105   |9.168 |  0.102  | 9.144 | .0097    |  9.1375    |   .00247       |\n",
    "|-----------|-------|----------|------|---------|-------|----------|------------|----------------|"
   ]
  },
  {
   "cell_type": "code",
   "execution_count": 45,
   "metadata": {},
   "outputs": [],
   "source": [
    "# The Black-Scholes Control Variate reduces standard error significantly, but it requires much more computing power,\n",
    "# making it slower. Using the Delta Gama formumula you are able to see the most accurate results and the smallest\n",
    "# standard of error by almost 10 basis points."
   ]
  },
  {
   "cell_type": "code",
   "execution_count": null,
   "metadata": {},
   "outputs": [],
   "source": []
  }
 ],
 "metadata": {
  "kernelspec": {
   "display_name": "Python 3",
   "language": "python",
   "name": "python3"
  },
  "language_info": {
   "codemirror_mode": {
    "name": "ipython",
    "version": 3
   },
   "file_extension": ".py",
   "mimetype": "text/x-python",
   "name": "python",
   "nbconvert_exporter": "python",
   "pygments_lexer": "ipython3",
   "version": "3.7.3"
  }
 },
 "nbformat": 4,
 "nbformat_minor": 4
}
