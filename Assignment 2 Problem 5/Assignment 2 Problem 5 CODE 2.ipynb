{
 "cells": [
  {
   "cell_type": "code",
   "execution_count": 8,
   "metadata": {},
   "outputs": [
    {
     "name": "stdout",
     "output_type": "stream",
     "text": [
      "The European Call Option Price is:  18.28\n",
      "The European Put Option Price is:  5.98\n",
      "The American Put Option is:  6.68\n",
      "The American Call Option is:  18.28\n"
     ]
    }
   ],
   "source": [
    "import numpy as np\n",
    "from payoffs import * \n",
    "\n",
    "strike = 95\n",
    "expiry = 1.0\n",
    "spot = 100\n",
    "rate = 0.08\n",
    "vol = 0.30\n",
    "div = 0.0\n",
    "steps = 3\n",
    "\n",
    "\n",
    "\n",
    "\n",
    "the_call = VanillaOption(strike, expiry, call_payoff)\n",
    "the_put = VanillaOption(strike, expiry, put_payoff)\n",
    "\n",
    "call_price = european_binomial(the_call, spot, rate, vol, div, steps)\n",
    "print(f\"The European Call Option Price is: {call_price : 0.2f}\")\n",
    "\n",
    "put_price = european_binomial(the_put, spot, rate, vol, div, steps)\n",
    "print(f\"The European Put Option Price is: {put_price : 0.2f}\")\n",
    "\n",
    "put_price_american = american_binomial(the_put, spot, rate, vol, div, steps)\n",
    "print(f\"The American Put Option is: {put_price_american : 0.2f}\")\n",
    "\n",
    "american_call_price = american_binomial(the_call, spot, rate, vol, div, steps)\n",
    "print(f\"The American Call Option is: {american_call_price : 0.2f}\")\n"
   ]
  },
  {
   "cell_type": "code",
   "execution_count": 10,
   "metadata": {},
   "outputs": [],
   "source": [
    "## A. No Early Excercise\n",
    "## B. American and European Call options are the same because of the zero dividend\n",
    "## C. put-call parity holds\n",
    "## D. The American is slightly more valuable because they can expire early"
   ]
  },
  {
   "cell_type": "code",
   "execution_count": null,
   "metadata": {},
   "outputs": [],
   "source": []
  }
 ],
 "metadata": {
  "kernelspec": {
   "display_name": "Python 3",
   "language": "python",
   "name": "python3"
  },
  "language_info": {
   "codemirror_mode": {
    "name": "ipython",
    "version": 3
   },
   "file_extension": ".py",
   "mimetype": "text/x-python",
   "name": "python",
   "nbconvert_exporter": "python",
   "pygments_lexer": "ipython3",
   "version": "3.7.3"
  }
 },
 "nbformat": 4,
 "nbformat_minor": 2
}
